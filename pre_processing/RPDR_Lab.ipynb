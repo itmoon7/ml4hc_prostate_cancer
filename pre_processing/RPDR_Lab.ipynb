{
 "cells": [
  {
   "cell_type": "markdown",
   "metadata": {},
   "source": [
    "### Working with Procedures dataset"
   ]
  },
  {
   "cell_type": "markdown",
   "metadata": {},
   "source": [
    "## 1. Importing modules"
   ]
  },
  {
   "cell_type": "code",
   "execution_count": null,
   "metadata": {},
   "outputs": [],
   "source": [
    "import numpy as np\n",
    "import pandas as pd"
   ]
  },
  {
   "cell_type": "markdown",
   "metadata": {},
   "source": [
    "#### Allowing all rows and columns to be displayed"
   ]
  },
  {
   "cell_type": "code",
   "execution_count": null,
   "metadata": {},
   "outputs": [],
   "source": [
    "pd.options.display.max_columns = None\n",
    "pd.options.display.max_rows = None"
   ]
  },
  {
   "cell_type": "markdown",
   "metadata": {},
   "source": [
    "## 2. Importing and evaluating data"
   ]
  },
  {
   "cell_type": "markdown",
   "metadata": {},
   "source": [
    "### Note that data was loaded in R using package from parseRPDR   \n",
    "https://cran.r-project.org/web/packages/parseRPDR/vignettes/Using_parseRPDR.html   \n",
    "##### Importing data from .txt files\n",
    "##### Looking at df attributes (# of rows/observations, # of variables/columns)"
   ]
  },
  {
   "cell_type": "code",
   "execution_count": null,
   "metadata": {
    "jupyter": {
     "outputs_hidden": true
    }
   },
   "outputs": [],
   "source": [
    "labs_first = pd.read_csv(r'First/lab.csv')"
   ]
  },
  {
   "cell_type": "code",
   "execution_count": null,
   "metadata": {},
   "outputs": [],
   "source": [
    "labs_second = pd.read_csv(r'Second/lab.csv')\n",
    "labs_third = pd.read_csv(r'Third/lab.csv')\n",
    "labs_fourth = pd.read_csv(r'Fourth/lab.csv')"
   ]
  },
  {
   "cell_type": "code",
   "execution_count": null,
   "metadata": {},
   "outputs": [],
   "source": [
    "print('Lab result:\\n',labs_first['lab_group'].value_counts())"
   ]
  },
  {
   "cell_type": "code",
   "execution_count": null,
   "metadata": {},
   "outputs": [],
   "source": [
    "print(len(labs_first))\n",
    "print(len(labs_second))\n",
    "print(len(labs_third))\n",
    "print(len(labs_fourth))"
   ]
  },
  {
   "cell_type": "code",
   "execution_count": null,
   "metadata": {},
   "outputs": [],
   "source": [
    "labs_merged = labs_first.append([labs_second, labs_third, labs_fourth])"
   ]
  },
  {
   "cell_type": "code",
   "execution_count": null,
   "metadata": {},
   "outputs": [],
   "source": [
    "labs_merged = pd.read_csv(r'labs_merged.csv')"
   ]
  },
  {
   "cell_type": "markdown",
   "metadata": {},
   "source": [
    "##### Column names, non-missing values, and data type (dtype)"
   ]
  },
  {
   "cell_type": "code",
   "execution_count": null,
   "metadata": {},
   "outputs": [],
   "source": [
    "print('Lab group:\\n',labs_merged['lab_group'].value_counts(dropna=False))"
   ]
  },
  {
   "cell_type": "markdown",
   "metadata": {},
   "source": [
    "lab_loinc, lab_testID, lab_descript are contained in lab_group   \n",
    "lab_result_abn, lab_spec, lab_accession is not relevant"
   ]
  },
  {
   "cell_type": "code",
   "execution_count": null,
   "metadata": {
    "jupyter": {
     "outputs_hidden": true
    }
   },
   "outputs": [],
   "source": [
    "print('Lab group:\\n',labs_merged['lab_spec'].value_counts(dropna=False))"
   ]
  },
  {
   "cell_type": "markdown",
   "metadata": {},
   "source": [
    "lab_result_txt needs to be cleaned"
   ]
  },
  {
   "cell_type": "code",
   "execution_count": null,
   "metadata": {
    "jupyter": {
     "outputs_hidden": true
    }
   },
   "outputs": [],
   "source": [
    "print('Lab result:\\n',labs_merged['lab_result_txt'].value_counts(dropna=False).loc[lambda x : x>4])"
   ]
  },
  {
   "cell_type": "code",
   "execution_count": null,
   "metadata": {},
   "outputs": [],
   "source": [
    "labs_merged = labs_merged.iloc[:, [0, 3, 4, 8, 9, 10, 11, 12]]"
   ]
  },
  {
   "cell_type": "markdown",
   "metadata": {},
   "source": [
    "lab_result has characters and lab_result_txt needs to be cleaned"
   ]
  },
  {
   "cell_type": "markdown",
   "metadata": {},
   "source": [
    "Ashwin prepared code to clean these fields, uploaded to slack lab_processing"
   ]
  },
  {
   "cell_type": "markdown",
   "metadata": {},
   "source": [
    "First applying to lab_result"
   ]
  },
  {
   "cell_type": "code",
   "execution_count": null,
   "metadata": {},
   "outputs": [],
   "source": [
    "labs_merged['lab_result'] = labs_merged['lab_result'].astype(str)"
   ]
  },
  {
   "cell_type": "code",
   "execution_count": null,
   "metadata": {},
   "outputs": [],
   "source": [
    "labs_merged['PSA'] = \"\""
   ]
  },
  {
   "cell_type": "code",
   "execution_count": null,
   "metadata": {},
   "outputs": [],
   "source": [
    "import re\n",
    "def psa_find(row):\n",
    "    row = row.replace(\",\", \"\")\n",
    "    if \"Free PSA Ratio is only calculated\" in row or \"Not applicable\" in row or \"Test not performed\" in row or \"Unable to calculate\" in row or \"RATIO IS NOT CALCULATED\" in row or \"Results do not belong\" in row or \"not calculated\" in row or \"not reported\" in row or \"should be\" in row or \"CLINICAL USEFULNESS IS NOT ESTABLISHED\" in row:\n",
    "        return \"\"\n",
    "    res = re.findall(r'PSA\\s*\\(Total\\):\\s*\\d*\\.?\\d+', row, flags=re.IGNORECASE)\n",
    "    if not res:\n",
    "        res = re.findall(r'PSA TOTAL\\s*\\d*\\.?\\d+', row, flags=re.IGNORECASE)\n",
    "        if not res:\n",
    "            res = re.findall(r'\\d*\\.?\\d+\\s*(?:ng\\/ml|mcg\\/l|mcg\\/ml)',row, flags=re.IGNORECASE)\n",
    "            if not res:\n",
    "                res = re.findall(r'PSA\\s*\\d*\\.?\\d+', row)\n",
    "                if not res:\n",
    "                    res = re.findall(r'PSA\\s*=\\s*\\d*\\.?\\d+', row)\n",
    "                    if not res:\n",
    "                        res = re.findall(r'(?:ng\\/ml|mcg\\/l|mcg\\/ml)\\s*=?:?\\s*\\d*\\.?\\d+', row, flags=re.IGNORECASE)\n",
    "                        if not res:\n",
    "                            res = re.findall(r'^>?\\d*\\.?\\d+', row)\n",
    "                            if not res:\n",
    "                                if \";\" in row:\n",
    "                                    res = re.findall(r'^\\d*\\.?\\d+', row.split(\";\")[0])\n",
    "                                if not res:\n",
    "                                    return \"\"\n",
    "    return re.findall(r'\\d*\\.?\\d+', res[0])[0]"
   ]
  },
  {
   "cell_type": "code",
   "execution_count": null,
   "metadata": {},
   "outputs": [],
   "source": [
    "def undetect(row):\n",
    "    row = row.replace(\",\", \"\")\n",
    "    res = re.findall(r'^<', row)\n",
    "    if not res:\n",
    "        res = re.findall(r'Less Than \\d*\\.?\\d+', row, flags=re.IGNORECASE)\n",
    "    if res:\n",
    "        return True\n",
    "    return False"
   ]
  },
  {
   "cell_type": "code",
   "execution_count": null,
   "metadata": {},
   "outputs": [],
   "source": [
    "def greater(row):\n",
    "    row = row.replace(\",\", \"\")\n",
    "    res = re.findall(r'^PSA:?\\s*(?:>|GREATER THAN)\\s*\\d*\\.?\\d+', row, flags=re.IGNORECASE)\n",
    "    res2 = re.findall(r'^>\\s*\\d*\\.?\\d+', row, flags=re.IGNORECASE)\n",
    "    if res or res2:\n",
    "        return True\n",
    "    return False"
   ]
  },
  {
   "cell_type": "code",
   "execution_count": null,
   "metadata": {},
   "outputs": [],
   "source": [
    "def percent(row):\n",
    "    row = row.replace(\",\", \"\")\n",
    "    res = re.findall(r'PSA\\s*\\d*\\.?\\d+\\s*%', row, flags=re.IGNORECASE)\n",
    "    if not res:\n",
    "        res = re.findall(r'^\\d*\\.?\\d+\\s*%', row)\n",
    "        if not res:\n",
    "            res = re.findall(r'% Free PSA:\\s*\\d*\\.?\\d+', row)\n",
    "            if not res:\n",
    "                res = re.findall(r'PSA FREE\\s*\\d*\\.?\\d+', row, flags=re.IGNORECASE)\n",
    "                if not res:\n",
    "                    return \"\"\n",
    "    return re.findall(r'\\d*\\.?\\d+', res[0])[0]"
   ]
  },
  {
   "cell_type": "code",
   "execution_count": null,
   "metadata": {},
   "outputs": [],
   "source": [
    "def percent_from_lab_group(row):\n",
    "    return \"Free\" in row['lab_group']"
   ]
  },
  {
   "cell_type": "code",
   "execution_count": null,
   "metadata": {},
   "outputs": [],
   "source": [
    "labs_merged['PSA'] = labs_merged.apply (lambda row: psa_find(row['lab_result']), axis=1)"
   ]
  },
  {
   "cell_type": "code",
   "execution_count": null,
   "metadata": {},
   "outputs": [],
   "source": [
    "labs_merged['undetect'] = labs_merged.apply (lambda row: undetect(row['lab_result']), axis=1)\n",
    "labs_merged.loc[labs_merged.undetect == True, 'PSA'] = 0.009"
   ]
  },
  {
   "cell_type": "code",
   "execution_count": null,
   "metadata": {},
   "outputs": [],
   "source": [
    "labs_merged['greater'] = labs_merged.apply (lambda row: greater(row['lab_result']), axis=1)"
   ]
  },
  {
   "cell_type": "code",
   "execution_count": null,
   "metadata": {},
   "outputs": [],
   "source": [
    "labs_merged['Percent Free'] = labs_merged.apply(lambda row: percent_from_lab_group(row), axis=1)\n",
    "for index, row in labs_merged.iterrows():\n",
    "    res = percent(row['lab_result'])\n",
    "    if res:\n",
    "        labs_merged.loc[index, 'PSA'] = res\n",
    "        labs_merged.loc[index, 'Percent Free'] = True"
   ]
  },
  {
   "cell_type": "markdown",
   "metadata": {},
   "source": [
    "Now applying to lab_result_txt"
   ]
  },
  {
   "cell_type": "code",
   "execution_count": null,
   "metadata": {},
   "outputs": [],
   "source": [
    "labs_merged['lab_result_txt'] = labs_merged['lab_result_txt'].astype(str)"
   ]
  },
  {
   "cell_type": "code",
   "execution_count": null,
   "metadata": {},
   "outputs": [],
   "source": [
    "labs_merged['PSA'] = labs_merged.apply (lambda row: psa_find(row['lab_result_txt']) if row['PSA'] == \"\" else row[\"PSA\"], axis=1)"
   ]
  },
  {
   "cell_type": "code",
   "execution_count": null,
   "metadata": {},
   "outputs": [],
   "source": [
    "labs_merged['undetect'] = labs_merged.apply (lambda row: undetect(row['lab_result_txt']) if row['undetect'] == False else row[\"undetect\"], axis=1)\n",
    "labs_merged.loc[labs_merged.undetect == True, 'PSA'] = 0.009"
   ]
  },
  {
   "cell_type": "code",
   "execution_count": null,
   "metadata": {},
   "outputs": [],
   "source": [
    "labs_merged['greater'] = labs_merged.apply (lambda row: greater(row['lab_result_txt']) if row['greater'] == False else row[\"greater\"], axis=1)"
   ]
  },
  {
   "cell_type": "code",
   "execution_count": null,
   "metadata": {},
   "outputs": [],
   "source": [
    "for index, row in labs_merged.iterrows():\n",
    "    res = percent(row['lab_result_txt'])\n",
    "    if res:\n",
    "        labs_merged.loc[index, 'PSA'] = res\n",
    "        labs_merged.loc[index, 'Percent Free'] = True\n",
    "labs_merged[\"Total PSA\"] = ~labs_merged['Percent Free']"
   ]
  },
  {
   "cell_type": "code",
   "execution_count": null,
   "metadata": {},
   "outputs": [],
   "source": [
    "labs_merged.rename({'ID_MERGE': 'EMPI'}, axis=1, inplace=True)"
   ]
  },
  {
   "cell_type": "code",
   "execution_count": null,
   "metadata": {},
   "outputs": [],
   "source": [
    "labs_cl = labs_merged[[\"EMPI\", \"time_lab_result\", \"lab_group\", \"PSA\", \"undetect\", \"greater\", \"Percent Free\", \"Total PSA\", 'lab_result', 'lab_result_txt']]"
   ]
  },
  {
   "cell_type": "code",
   "execution_count": null,
   "metadata": {},
   "outputs": [],
   "source": [
    "labs_cl.to_csv(\"labs_cl.csv\")"
   ]
  },
  {
   "cell_type": "code",
   "execution_count": null,
   "metadata": {},
   "outputs": [],
   "source": [
    "labs_cl = labs_merged.iloc[:, [2, 3, 4, 8, 9, 10, 11, 12]]"
   ]
  },
  {
   "cell_type": "code",
   "execution_count": null,
   "metadata": {},
   "outputs": [],
   "source": [
    "labs_cl.to_csv(r'labs_cl.csv', index=False)"
   ]
  },
  {
   "cell_type": "code",
   "execution_count": null,
   "metadata": {},
   "outputs": [],
   "source": [
    "labs_merged['datetime'] = pd.to_datetime(labs_merged['time_lab_result'], infer_datetime_format=True)"
   ]
  },
  {
   "cell_type": "code",
   "execution_count": null,
   "metadata": {},
   "outputs": [],
   "source": [
    "labs_merged['latestDate'] = labs_merged.groupby('EMPI').datetime.transform('max')"
   ]
  },
  {
   "cell_type": "code",
   "execution_count": null,
   "metadata": {},
   "outputs": [],
   "source": [
    "latest = labs_merged.copy()"
   ]
  },
  {
   "cell_type": "code",
   "execution_count": null,
   "metadata": {},
   "outputs": [],
   "source": [
    "latest = latest.drop_duplicates(subset=['EMPI'])"
   ]
  },
  {
   "cell_type": "code",
   "execution_count": null,
   "metadata": {},
   "outputs": [],
   "source": [
    "latest = latest[[\"EMPI\", \"latestDate\"]]"
   ]
  },
  {
   "cell_type": "code",
   "execution_count": null,
   "metadata": {},
   "outputs": [],
   "source": [
    "latest.to_csv(\"lab_latest_date.csv\")"
   ]
  },
  {
   "cell_type": "markdown",
   "metadata": {},
   "source": [
    "## Review next dataset"
   ]
  }
 ],
 "metadata": {
  "kernelspec": {
   "display_name": "Python 3",
   "language": "python",
   "name": "python3"
  },
  "language_info": {
   "codemirror_mode": {
    "name": "ipython",
    "version": 3
   },
   "file_extension": ".py",
   "mimetype": "text/x-python",
   "name": "python",
   "nbconvert_exporter": "python",
   "pygments_lexer": "ipython3",
   "version": "3.9.4"
  }
 },
 "nbformat": 4,
 "nbformat_minor": 4
}
