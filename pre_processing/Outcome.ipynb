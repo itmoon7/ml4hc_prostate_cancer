{
 "cells": [
  {
   "cell_type": "code",
   "execution_count": null,
   "id": "aeb1fd5d",
   "metadata": {},
   "outputs": [],
   "source": [
    "import pandas as pd"
   ]
  },
  {
   "cell_type": "code",
   "execution_count": null,
   "id": "6a20362a",
   "metadata": {},
   "outputs": [],
   "source": [
    "singlerp = pd.read_csv(\"singlerp.csv\")\n",
    "date = \"prdate_parsed\""
   ]
  },
  {
   "cell_type": "code",
   "execution_count": null,
   "id": "6d82d345",
   "metadata": {},
   "outputs": [],
   "source": [
    "singlerp = pd.read_csv(\"df_pathology_biopsy_final.csv\")\n",
    "date = \"Report_Date_Time\""
   ]
  },
  {
   "cell_type": "code",
   "execution_count": null,
   "id": "62772dec",
   "metadata": {},
   "outputs": [],
   "source": [
    "psa = pd.read_csv(\"labs_cl.csv\")"
   ]
  },
  {
   "cell_type": "code",
   "execution_count": null,
   "id": "80adf929",
   "metadata": {},
   "outputs": [],
   "source": [
    "psa = psa[psa['Percent Free'] == False]"
   ]
  },
  {
   "cell_type": "code",
   "execution_count": null,
   "id": "e83600d2",
   "metadata": {},
   "outputs": [],
   "source": [
    "psa['time_lab_result'] = pd.to_datetime(psa['time_lab_result'], infer_datetime_format=True) \n",
    "singlerp[date] = pd.to_datetime(singlerp[date], infer_datetime_format=True)"
   ]
  },
  {
   "cell_type": "code",
   "execution_count": null,
   "id": "0ce26d7b",
   "metadata": {},
   "outputs": [],
   "source": [
    "recurrence = pd.DataFrame(columns=['EMPI', 'num_before_rp', 'detectable_postop_psa', 'bcr_rp', 'bcr_date', 'first_postop_psa','preop_psa', 'postop_psas', 'preop_psa_date','postop_psas_dates', 'prdate_parsed'])"
   ]
  },
  {
   "cell_type": "code",
   "execution_count": null,
   "id": "f13e8fe2",
   "metadata": {},
   "outputs": [],
   "source": [
    "import datetime\n",
    "\n",
    "k = 0\n",
    "for i, row in singlerp.iterrows():\n",
    "    psa_records = psa[psa['EMPI'] == row['EMPI']]\n",
    "    if len(psa_records) > 0:\n",
    "        sorted_records = psa_records.sort_values(by='time_lab_result', ascending=True)\n",
    "        sorted_records = sorted_records[~sorted_records['time_lab_result'].isnull()]\n",
    "        row_num = 0\n",
    "        preop_psa = float(\"nan\")\n",
    "        preop_psa_date = float(\"nan\")\n",
    "        for j, row2 in sorted_records.iterrows():\n",
    "            if row2['time_lab_result'] < row[date]:\n",
    "                preop_psa = row2['PSA']\n",
    "                preop_psa_date = row2['time_lab_result'].date()\n",
    "            if row2['time_lab_result'] >= row[date] + datetime.timedelta(days=14):\n",
    "                months = (row2['time_lab_result'].year - row[date].year) * 12 + (row2['time_lab_result'].month - row[date].month)\n",
    "                if months <= 6:\n",
    "                    if row2['undetect'] or row2['PSA'] <= 0.10:\n",
    "                        detectable_postop_psa = 0\n",
    "                    else:\n",
    "                        detectable_postop_psa = 1\n",
    "                else:\n",
    "                    detectable_postop_psa = float(\"nan\")\n",
    "                    \n",
    "                if detectable_postop_psa == 0:\n",
    "                    post_surgery_psa = sorted_records[sorted_records['time_lab_result'] >= row[date]  + datetime.timedelta(days=14)]\n",
    "                    post_surgery_psa = post_surgery_psa[post_surgery_psa['PSA'] > 0.2]\n",
    "                    if len(post_surgery_psa) >= 2:\n",
    "                        bcr_rp = 1\n",
    "                        bcr_date = post_surgery_psa.time_lab_result.iloc[1]\n",
    "                    else:\n",
    "                        bcr_rp = 0\n",
    "                        bcr_date = sorted_records.time_lab_result.iloc[-1]\n",
    "                    \n",
    "                else:\n",
    "                    bcr_rp = float(\"nan\")\n",
    "                    bcr_date = float(\"nan\")\n",
    "                \n",
    "                post_surgery_psa = sorted_records[sorted_records['time_lab_result'] >= row[date]  + datetime.timedelta(days=14)]\n",
    "                first_postop_psa = post_surgery_psa.time_lab_result.iloc[0]\n",
    "                postop_psas = list(post_surgery_psa['PSA'])\n",
    "                \n",
    "                postop_psas_dates = list(post_surgery_psa['time_lab_result'].apply(lambda row: row.date()))\n",
    "                \n",
    "                recurrence.loc[k] = [row['EMPI'], row_num, detectable_postop_psa, bcr_rp, bcr_date, first_postop_psa, preop_psa, postop_psas, preop_psa_date, postop_psas_dates, row[date]]\n",
    "                k += 1\n",
    "                break\n",
    "            \n",
    "            \n",
    "            row_num += 1"
   ]
  },
  {
   "cell_type": "code",
   "execution_count": null,
   "id": "ee193e1a",
   "metadata": {},
   "outputs": [],
   "source": [
    "len(recurrence[~recurrence['preop_psa'].isnull()])"
   ]
  },
  {
   "cell_type": "code",
   "execution_count": null,
   "id": "d5dc65be",
   "metadata": {},
   "outputs": [],
   "source": [
    "len(recurrence[recurrence['preop_psa'].isnull()])"
   ]
  },
  {
   "cell_type": "code",
   "execution_count": null,
   "id": "72d6b170",
   "metadata": {},
   "outputs": [],
   "source": [
    "recurrence_output = recurrence[['EMPI','detectable_postop_psa','bcr_rp','bcr_date']]\n",
    "recurrence_output.to_csv(\"outcome.csv\", na_rep='NaN')"
   ]
  },
  {
   "cell_type": "code",
   "execution_count": null,
   "id": "13fbbc8a",
   "metadata": {},
   "outputs": [],
   "source": [
    "validation = recurrence[['EMPI', 'preop_psa', 'prdate_parsed','postop_psas', 'preop_psa_date','postop_psas_dates','bcr_date','bcr_rp']]\n",
    "validation.to_csv(\"validation.csv\", na_rep='NaN')"
   ]
  },
  {
   "cell_type": "code",
   "execution_count": null,
   "id": "c04b1cd9",
   "metadata": {},
   "outputs": [],
   "source": [
    "recurrence['detectable_postop_psa'].value_counts(normalize=True) * 100"
   ]
  },
  {
   "cell_type": "code",
   "execution_count": null,
   "id": "9ba20bd9",
   "metadata": {},
   "outputs": [],
   "source": [
    "pathology = pd.read_csv('pathology_rp_all_feats_final_v2.tsv', sep='\\t')"
   ]
  },
  {
   "cell_type": "code",
   "execution_count": null,
   "id": "157d1b63",
   "metadata": {},
   "outputs": [],
   "source": [
    "#merge recurrence data with pathology patients\n",
    "recurrence_merged = pd.merge(pathology, recurrence, on='EMPI')"
   ]
  },
  {
   "cell_type": "code",
   "execution_count": null,
   "id": "c59d0e86",
   "metadata": {},
   "outputs": [],
   "source": [
    "recurrence_merged['num_before_rp'].median()"
   ]
  },
  {
   "cell_type": "code",
   "execution_count": null,
   "id": "ef1e7504",
   "metadata": {},
   "outputs": [],
   "source": [
    "recurrence_merged['num_before_rp'].mean()"
   ]
  },
  {
   "cell_type": "code",
   "execution_count": null,
   "id": "8e228883",
   "metadata": {},
   "outputs": [],
   "source": [
    "recurrence['num_before_rp'].mean()"
   ]
  }
 ],
 "metadata": {
  "kernelspec": {
   "display_name": "Python 3",
   "language": "python",
   "name": "python3"
  },
  "language_info": {
   "codemirror_mode": {
    "name": "ipython",
    "version": 3
   },
   "file_extension": ".py",
   "mimetype": "text/x-python",
   "name": "python",
   "nbconvert_exporter": "python",
   "pygments_lexer": "ipython3",
   "version": "3.9.4"
  }
 },
 "nbformat": 4,
 "nbformat_minor": 5
}
