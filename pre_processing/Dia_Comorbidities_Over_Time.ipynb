{
 "cells": [
  {
   "cell_type": "markdown",
   "metadata": {},
   "source": [
    "# Import the Data"
   ]
  },
  {
   "cell_type": "code",
   "execution_count": null,
   "metadata": {},
   "outputs": [],
   "source": [
    "import numpy as np\n",
    "import pandas as pd\n",
    "import os\n",
    "\n",
    "os.chdir(\"/Users/dexinli/Dropbox (MIT)/MGH Prostate Research Group/RPDR/\")"
   ]
  },
  {
   "cell_type": "code",
   "execution_count": null,
   "metadata": {},
   "outputs": [],
   "source": [
    "# Identifying seperator and first row as header, import all four files for diagnoses\n",
    "diagnosis = pd.read_csv('Raw Data/First/txt/KS185_20200918_114153_Dia.txt', sep=\"|\", header=0, low_memory=False)"
   ]
  },
  {
   "cell_type": "code",
   "execution_count": null,
   "metadata": {},
   "outputs": [],
   "source": [
    "# patients with rp\n",
    "singlerp_df = pd.read_csv(\"Processed data/singlerp.csv\")\n",
    "\n",
    "# check that all observations have singlerp = 1\n",
    "singlerp_df[\"totalrp\"].unique() # yes! all are 1"
   ]
  },
  {
   "cell_type": "code",
   "execution_count": null,
   "metadata": {},
   "outputs": [],
   "source": [
    "# patients undergone biopsy\n",
    "biopsy_df = pd.read_csv(\"Processed data/df_pathology_biopsy_final.csv\")\n",
    "\n",
    "print(len(singlerp_df.index))\n",
    "print(len(biopsy_df.index))\n",
    "# all empis that we want to find comorbidities for\n",
    "df_empi = singlerp_df.merge(biopsy_df, on = \"EMPI\", how=\"outer\")\n",
    "print(len(df_empi.index))"
   ]
  },
  {
   "cell_type": "code",
   "execution_count": null,
   "metadata": {},
   "outputs": [],
   "source": [
    "# other empis we want comorbidities for as well\n",
    "need_empi_df = pd.read_csv(\"Code/Diagnoses/empis_need_comorbidity.csv\")\n",
    "need_empi_df = need_empi_df.drop(columns=[\"Unnamed: 0\"])\n",
    "need_empi_df.head()\n",
    "print(len(need_empi_df.index))"
   ]
  },
  {
   "cell_type": "code",
   "execution_count": null,
   "metadata": {},
   "outputs": [],
   "source": [
    "# import the other three diagnosis datasets\n",
    "diagnosis_second = pd.read_csv('Raw Data/Second/txt/KS185_20200918_114153_Dia.txt', sep=\"|\", header=0, low_memory=False)\n",
    "diagnosis_third = pd.read_csv('Raw Data/Third/txt/KS185_20200918_114153_Dia.txt', sep=\"|\", header=0, low_memory=False)\n",
    "diagnosis_fourth = pd.read_csv('Raw Data/Fourth/txt/KS185_20200918_114153_Dia.txt', sep=\"|\", header=0, low_memory=False)"
   ]
  },
  {
   "cell_type": "code",
   "execution_count": null,
   "metadata": {},
   "outputs": [],
   "source": [
    "diamerged = diagnosis.append([diagnosis_second, diagnosis_third, diagnosis_fourth], sort=True)"
   ]
  },
  {
   "cell_type": "markdown",
   "metadata": {},
   "source": [
    "# Cleaning the Data"
   ]
  },
  {
   "cell_type": "code",
   "execution_count": null,
   "metadata": {},
   "outputs": [],
   "source": [
    "# make data in correct format\n",
    "diamerged['diadate_parsed'] = pd.to_datetime(diagnosis['Date'], errors='coerce', format='%m/%d/%Y')\n",
    "\n",
    "# change date to a pd.datetime variable\n",
    "diamerged['Date'] =pd.to_datetime(diamerged.Date)"
   ]
  },
  {
   "cell_type": "code",
   "execution_count": null,
   "metadata": {},
   "outputs": [],
   "source": [
    "# Only keep the patients that actually are either in singlerp, or in our biopsy reports\n",
    "\n",
    "# merge diagnoses data with empis we want\n",
    "diamerged2 = diamerged.merge(singlerp_df, on = \"EMPI\")\n",
    "print(len(diamerged.index))\n",
    "print(len(diamerged2.index)) "
   ]
  },
  {
   "cell_type": "code",
   "execution_count": null,
   "metadata": {},
   "outputs": [],
   "source": [
    "# Map some of the LMR Codes to ICD Codes that can be read by our R package to calculate the comorbidity scores\n",
    "# Mapping provided by Madhur\n",
    "df_mapping = pd.read_csv(\"Raw Data/lmr_icd9map.csv\")\n",
    "\n",
    "# rename index column to Diagnosis_Name\n",
    "df_mapping = df_mapping.rename(columns={\"index\": \"Diagnosis_Name\"})\n",
    "\n",
    "# Drop ICD10 code, we will only use ICD9\n",
    "df_mapping = df_mapping.drop(['ICD10'], axis=1)"
   ]
  },
  {
   "cell_type": "code",
   "execution_count": null,
   "metadata": {},
   "outputs": [],
   "source": [
    "# left merge so some LMR codes now have ICD9 codes\n",
    "diamerged3 = diamerged2.merge(df_mapping, on='Diagnosis_Name', how='left')\n",
    "\n",
    "# fill in values in ICD9 column where observations always had ICD9 values\n",
    "diamerged3.loc[(diamerged3[\"Code_Type\"] == \"ICD9\"), 'ICD9'] = diamerged3[\"Code\"]\n",
    "\n",
    "print(len(diamerged3.index))"
   ]
  },
  {
   "cell_type": "code",
   "execution_count": null,
   "metadata": {},
   "outputs": [],
   "source": [
    "# change nulls to -1 so they become easier to handle in R\n",
    "diamerged3.loc[(diamerged3[\"ICD9\"].isnull()), 'ICD9'] = -1\n",
    "\n",
    "print(len(diamerged3[diamerged3['ICD9'].isnull()].index))\n",
    "print(len(diamerged3[diamerged3['ICD9'] == -1].index))\n",
    "print(len(diamerged3[diamerged3[\"Code_Type\"] == \"ICD9\"].index))\n",
    "print(len(diamerged3[diamerged3[\"Code_Type\"] != \"ICD9\"].index))\n",
    "print(len(diamerged3.index))"
   ]
  },
  {
   "cell_type": "code",
   "execution_count": null,
   "metadata": {},
   "outputs": [],
   "source": [
    " # print to csv to use in R to calculate the comorbidity scores using R package\n",
    "diamerged3.to_csv(\"Code/Diagnoses/diamerged_singlerp.csv\")\n",
    "\n",
    "# next portion of code is done in R, then reimported afterwards below"
   ]
  },
  {
   "cell_type": "markdown",
   "metadata": {},
   "source": [
    "# Reimport Comorbidities From R to Find Comorbidity per Patient Day, Combining both ICD9 and ICD10 codes"
   ]
  },
  {
   "cell_type": "code",
   "execution_count": null,
   "metadata": {},
   "outputs": [],
   "source": [
    "# Reimport comorbidity for each patient-day data from R\n",
    "charlson_singlerp = pd.read_csv('Code/Diagnoses/charlson_singlerp.csv')\n",
    "\n",
    "# Delete first column\n",
    "charlson_singlerp = charlson_singlerp.drop(columns=['Unnamed: 0'])\n",
    "\n",
    "print(len(charlson_singlerp.index))\n",
    "charlson_singlerp.head()"
   ]
  },
  {
   "cell_type": "code",
   "execution_count": null,
   "metadata": {
    "scrolled": false
   },
   "outputs": [],
   "source": [
    "# Combine ICD9  and ICD10 comorbidity scores under each EMPI_day\n",
    "\n",
    "# Groupby EMPI_day, then sum diagnoses (so ICD9, ICD10 codes can come together)\n",
    "comorb_df = charlson_singlerp.groupby(['EMPI_day']).sum()\n",
    "comorb_df[comorb_df > 1] = 1 # Make each of the diagnoses either 0 or 1\n",
    "# score is just the sum of all of the diagnoses columns\n",
    "comorb_df[\"score\"] = comorb_df.drop(columns=['wscore', 'score'], axis=1).sum(axis=1)\n",
    "#weighted score is the weighted sum of all the diagnoses columns\n",
    "comorb_df[\"wscore\"] = comorb_df.ami + comorb_df.pvd + comorb_df.cevd + comorb_df.dementia \\\n",
    "    + comorb_df.copd + comorb_df.rheumd + comorb_df.pud + comorb_df.mld \\\n",
    "    + comorb_df.diab + comorb_df.diabwc + 2*comorb_df.hp + 2*comorb_df.rend \\\n",
    "    + 2*comorb_df.canc + 3*comorb_df.msld + 6*comorb_df.metacanc + 6*comorb_df.aids\n",
    "comorb_df.reset_index(inplace=True) # make EMPI_day a new column instead of index\n",
    "\n",
    "comorb_df.head(50)"
   ]
  },
  {
   "cell_type": "markdown",
   "metadata": {},
   "source": [
    "# Aggregate Comorbidity Scores Across Time "
   ]
  },
  {
   "cell_type": "code",
   "execution_count": null,
   "metadata": {},
   "outputs": [],
   "source": [
    "# extract the actual EMPI and day\n",
    "comorb_df[['EMPI','Date']] = comorb_df.EMPI_day.str.split(\" \",expand=True,)\n",
    "comorb_df.head(50)"
   ]
  },
  {
   "cell_type": "code",
   "execution_count": null,
   "metadata": {},
   "outputs": [],
   "source": [
    "# sort values based on EMPI, then date\n",
    "comorb_df = comorb_df.sort_values(by=['EMPI', 'Date'])\n",
    "print(len(comorb_df.index))\n",
    "print(comorb_df.columns)\n",
    "comorb_df.head(50)"
   ]
  },
  {
   "cell_type": "code",
   "execution_count": null,
   "metadata": {},
   "outputs": [],
   "source": [
    "# Now, we aggregate the comorbidities for each patient throughout time\n",
    "# To do so, for each subsequent date for the patient, get sum of the diagnoses up to that date\n",
    "# then iteratively update the score\n",
    "for col in [\"ami\", \"chf\", \"pvd\", \"cevd\", \"dementia\", \"copd\", \n",
    "            \"rheumd\", \"pud\", \"mld\", \"diab\", \"diabwc\", \"hp\", \"rend\",\n",
    "            \"canc\", \"msld\", \"metacanc\", \"aids\", \"score\", \"wscore\"]:\n",
    "    comorb_df[col + \"_agg\"] = comorb_df[col]\n",
    "\n",
    "comorb_df.head() "
   ]
  },
  {
   "cell_type": "code",
   "execution_count": null,
   "metadata": {},
   "outputs": [],
   "source": [
    "# do iterrows to iterate through the patients and update the aggregate scores\n",
    "print(len(comorb_df.index))\n",
    "for i in range(1, len(comorb_df.index)):\n",
    "    for col in [\"ami\", \"chf\", \"pvd\", \"cevd\", \"dementia\", \"copd\", \n",
    "            \"rheumd\", \"pud\", \"mld\", \"diab\", \"diabwc\", \"hp\", \"rend\",\n",
    "            \"canc\", \"msld\", \"metacanc\", \"aids\"]:\n",
    "        if(comorb_df.loc[i, \"EMPI\"] == comorb_df.loc[i-1, \"EMPI\"]):\n",
    "            comorb_df.loc[i, col + \"_agg\"] = comorb_df.loc[i-1, col + \"_agg\"] + comorb_df.loc[i, col]\n",
    "        \n",
    "    if(i % 3000 == 0):\n",
    "        print(i)\n",
    "    \n"
   ]
  },
  {
   "cell_type": "code",
   "execution_count": null,
   "metadata": {},
   "outputs": [],
   "source": [
    "comorb_df.to_csv(\"Processed Data/dia_comorb.csv\")\n",
    "comorb_df.head(50)"
   ]
  },
  {
   "cell_type": "code",
   "execution_count": null,
   "metadata": {},
   "outputs": [],
   "source": [
    "# create agg columns\n",
    "for col in [\"ami\", \"chf\", \"pvd\", \"cevd\", \"dementia\", \"copd\", \n",
    "            \"rheumd\", \"pud\", \"mld\", \"diab\", \"diabwc\", \"hp\", \"rend\",\n",
    "            \"canc\", \"msld\", \"metacanc\", \"aids\"]:\n",
    "    col_agg = col + \"_agg\"\n",
    "    comorb_df.loc[comorb_df[col_agg] > 1, col_agg] = 1 # change > 1 to 1\n",
    "    \n",
    "# calculate agg score\n",
    "comorb_df[\"score_agg\"] = comorb_df[\"ami_agg\"] + comorb_df[\"chf_agg\"] + comorb_df[\"pvd_agg\"] + \\\n",
    "    comorb_df[\"cevd_agg\"] + comorb_df[\"dementia_agg\"] + comorb_df[\"copd_agg\"] +  comorb_df[\"rheumd_agg\"] + \\\n",
    "    comorb_df[\"pud_agg\"] + comorb_df[\"mld_agg\"] + comorb_df[\"diab_agg\"] + comorb_df[\"diabwc_agg\"] + \\\n",
    "    comorb_df[\"hp_agg\"] + comorb_df[\"rend_agg\"] + comorb_df[\"canc_agg\"] + comorb_df[\"msld_agg\"] + \\\n",
    "    comorb_df[\"metacanc_agg\"] + comorb_df[\"aids_agg\"]"
   ]
  },
  {
   "cell_type": "code",
   "execution_count": null,
   "metadata": {},
   "outputs": [],
   "source": [
    "# calculate agg weighted score\n",
    "comorb_df[\"wscore_agg\"] = comorb_df.ami_agg + comorb_df.chf_agg + comorb_df.pvd_agg + comorb_df.cevd_agg + comorb_df.dementia_agg \\\n",
    "    + comorb_df.copd_agg + comorb_df.rheumd_agg + comorb_df.pud_agg + comorb_df.mld_agg \\\n",
    "    + comorb_df.diab_agg + 2*comorb_df.diabwc_agg + 2*comorb_df.hp_agg + 2*comorb_df.rend_agg \\\n",
    "    + 2*comorb_df.canc_agg + 3*comorb_df.msld_agg + 6*comorb_df.metacanc_agg + 6*comorb_df.aids_agg"
   ]
  },
  {
   "cell_type": "code",
   "execution_count": null,
   "metadata": {},
   "outputs": [],
   "source": [
    "#comorb_df.to_csv(\"Processed Data/dia_comorb_new_empi.csv\")\n",
    "comorb_df.to_csv(\"Processed Data/dia_comorbDL.csv\")"
   ]
  }
 ],
 "metadata": {
  "kernelspec": {
   "display_name": "Python 3",
   "language": "python",
   "name": "python3"
  },
  "language_info": {
   "codemirror_mode": {
    "name": "ipython",
    "version": 3
   },
   "file_extension": ".py",
   "mimetype": "text/x-python",
   "name": "python",
   "nbconvert_exporter": "python",
   "pygments_lexer": "ipython3",
   "version": "3.8.1"
  }
 },
 "nbformat": 4,
 "nbformat_minor": 2
}
